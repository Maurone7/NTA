{
 "cells": [
  {
   "cell_type": "markdown",
   "id": "8b37a271",
   "metadata": {},
   "source": [
    "# Sample Jupyter Notebook\n",
    "\n",
    "This is a test notebook with various cell types."
   ]
  },
  {
   "cell_type": "code",
   "execution_count": null,
   "id": "bea51485",
   "metadata": {},
   "outputs": [],
   "source": [
    "print('Hello from Jupyter!')\n",
    "x = 42\n",
    "print(f'x = {x}')"
   ]
  },
  {
   "cell_type": "markdown",
   "id": "f1889468",
   "metadata": {},
   "source": [
    "## Math in Markdown\n",
    "\n",
    "Inline: $E = mc^2$\n",
    "\n",
    "Block:\n",
    "$$\n",
    "\\int_{-\\infty}^{\\infty} e^{-x^2} dx = \\sqrt{\\pi}\n",
    "$$"
   ]
  },
  {
   "cell_type": "code",
   "execution_count": null,
   "id": "fc083116",
   "metadata": {},
   "outputs": [],
   "source": [
    "import matplotlib.pyplot as plt\n",
    "import numpy as np\n",
    "\n",
    "x = np.linspace(0, 10, 100)\n",
    "y = np.sin(x)\n",
    "plt.plot(x, y)\n",
    "plt.title('Sine Wave')\n",
    "plt.show()"
   ]
  }
 ],
 "metadata": {
  "language_info": {
   "name": "python"
  }
 },
 "nbformat": 4,
 "nbformat_minor": 5
}
