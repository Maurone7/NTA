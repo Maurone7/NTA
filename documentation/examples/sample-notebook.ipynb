{
  "nbformat": 4,
  "nbformat_minor": 5,
  "metadata": {
    "language_info": {
      "name": "python"
    }
  },
  "cells": [
    {
      "cell_type": "markdown",
      "metadata": {},
      "source": [
        "# Sample Jupyter Notebook\n",
        "\n",
        "This is a test notebook with various cell types."
      ],
      "outputs": []
    },
    {
      "cell_type": "code",
      "metadata": {},
      "source": [
        "print('Hello from Jupyter!')\n",
        "x = 42\n",
        "print(f'x = {x}')"
      ],
      "outputs": []
    },
    {
      "cell_type": "markdown",
      "metadata": {},
      "source": [
        "## Math in Markdown\n",
        "\n",
        "Inline: $E = mc^2$\n",
        "\n",
        "Block:\n",
        "$$\n",
        "\\int_{-\\infty}^{\\infty} e^{-x^2} dx = \\sqrt{\\pi}\n",
        "$$"
      ],
      "outputs": []
    },
    {
      "cell_type": "code",
      "metadata": {},
      "source": [
        "import matplotlib.pyplot as plt\n",
        "import numpy as np\n",
        "\n",
        "x = np.linspace(0, 10, 100)\n",
        "y = np.sin(x)\n",
        "plt.plot(x, y)\n",
        "plt.title('Sine Wave')\n",
        "plt.show()"
      ],
      "outputs": []
    }
  ]
}